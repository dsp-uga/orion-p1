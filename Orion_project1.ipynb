{
 "cells": [
  {
   "cell_type": "markdown",
   "metadata": {},
   "source": [
    "# Orion Project 1"
   ]
  },
  {
   "cell_type": "markdown",
   "metadata": {},
   "source": [
    "## Part 1 Preprocessing"
   ]
  },
  {
   "cell_type": "code",
   "execution_count": 1,
   "metadata": {
    "collapsed": false
   },
   "outputs": [],
   "source": [
    "# Import packages\n",
    "from pyspark import SparkContext, SparkConf, SQLContext\n",
    "from pyspark.sql import Row\n",
    "from pyspark.sql.functions import monotonically_increasing_id\n",
    "from pyspark.sql.functions import explode,col\n",
    "\n"
   ]
  },
  {
   "cell_type": "code",
   "execution_count": 2,
   "metadata": {
    "collapsed": true
   },
   "outputs": [],
   "source": [
    "# Configure and create the Spark Context object \n",
    "\n",
    "conf = SparkConf().setAppName(\"Project1\").setMaster(\"local[*]\")\n",
    "sc = SparkContext(conf=conf)"
   ]
  },
  {
   "cell_type": "code",
   "execution_count": 3,
   "metadata": {
    "collapsed": false
   },
   "outputs": [],
   "source": [
    "\n",
    "# Read the documents locally, one record correspond to one doc\n",
    "XTrainOri = sc.textFile(\"data_for_initial_local_training/X_train_vsmall.txt\").cache()\n",
    "YTrainOri = sc.textFile(\"data_for_initial_local_training/Y_train_vsmall.txt\").cache()\n",
    "\n",
    "# Load stopwords form the file provided in project0\n",
    "stopWordsFile = sc.textFile(\"stopwords.txt\")\n",
    "stopWords = sc.broadcast(stopWordsFile.flatMap(lambda s: s.split()).collect())\n",
    "\n",
    "# Broadcast punctuation variable\n",
    "punctuation = sc.broadcast(\".,:;'!?$&_-()%+1234567890*/=\")\n",
    "\n",
    "\n",
    "# To read the documents on GCP\n",
    "#XTrainOri = sc.textFile(\"gs://uga-dsp/project1/train/X_train_vsmall.txt\").cache()\n",
    "#YTrainOri = sc.textFile(\"gs://uga-dsp/project1/train//Y_train_vsmall.txt\").cache()\n"
   ]
  },
  {
   "cell_type": "code",
   "execution_count": 4,
   "metadata": {
    "collapsed": false
   },
   "outputs": [],
   "source": [
    "def remove_puntuation_lowercase(s):\n",
    "    out = (s[0].replace('quot','').replace('.','').strip(punctuation.value).lower(),s[1])\n",
    "    return out\n",
    "    \n",
    "def remove_stopwords(s):\n",
    "    stop_words = stopWords.value\n",
    "    word,index = s\n",
    "    if word not in stop_words:\n",
    "        return (word,index) \n",
    "\n",
    "def preprocess_word_index(vector):\n",
    "    \"\"\"This function takes in a vector with index and words word,\n",
    "        it generates (word,index) pair,\n",
    "        where the index indicates which doc the word belongs to.\n",
    "        The function also removes punctuation, stopwords and letter case\"\"\"\n",
    "    splited_vector = list(map(lambda e: (e, vector[1]), vector[0].split()))\n",
    "    new_vector = []\n",
    "    for item in splited_vector:\n",
    "        item = remove_puntuation_lowercase(item)\n",
    "        item = remove_stopwords(item)\n",
    "        if item and item[0]:\n",
    "            new_vector.append(item)\n",
    "    return new_vector\n",
    "\n",
    "\n",
    "def filter_CAT(list):\n",
    "    \"\"\"Define a function such that the lable array only contains those end with 'CAT'\"\"\"\n",
    "    list = list.split(',')\n",
    "    outList = [x for x in list if x.endswith('CAT') ]\n",
    "    return outList\n",
    "\n",
    "\n",
    "def combine_DF(DF1,DF2):\n",
    "    \"\"\"Define a function to combine two Dataframe by creating index\"\"\"\n",
    "    index_DF1 = DF1.withColumn(\"columnindex\", monotonically_increasing_id())\n",
    "    index_DF2 =DF2.withColumn(\"columnindex\", monotonically_increasing_id())\n",
    "    out_RDD = index_DF1.join(index_DF2, index_DF1.columnindex == index_DF2.columnindex, 'inner').drop(index_DF2.columnindex).drop(index_DF1.columnindex)\n",
    "    return out_RDD\n",
    "    "
   ]
  },
  {
   "cell_type": "code",
   "execution_count": 5,
   "metadata": {
    "collapsed": false
   },
   "outputs": [
    {
     "name": "stdout",
     "output_type": "stream",
     "text": [
      "[('dedicated', 0), ('snow', 0), ('desk', 0), ('set', 0), ('up', 0), ('new', 0), ('york', 0), ('new', 0), ('jersey', 0), ('port', 0)]\n"
     ]
    }
   ],
   "source": [
    "# split documents into words, remove punctuation, trainsform words to lower case\n",
    "\n",
    "XTrain_preprocessed = XTrainOri.zipWithIndex().flatMap(preprocess_word_index)\n",
    "\n",
    "print(XTrain_preprocessed.take(10))"
   ]
  },
  {
   "cell_type": "markdown",
   "metadata": {},
   "source": [
    "### Create dataframe for the features\n",
    "\n",
    "<font color='red'>#NEED HELP HERE, it works but may slow the program down\n",
    "\n",
    "\n",
    "<br>Here I have not figured out a single function to count word per document\n",
    "<br> So I purely used map-reduce. First I created tuple ((word,index of document),1) and reduced by key in order to get the count for words belong to different document. Then I created Row object with dictionary in order to create dataframe </font>"
   ]
  },
  {
   "cell_type": "code",
   "execution_count": 6,
   "metadata": {
    "collapsed": true
   },
   "outputs": [],
   "source": [
    "# Broadcast a vector that contains all word in the training set\n",
    "# Will use this vector as column names for the final dataset\n",
    "cols = sc.broadcast(XTrain_preprocessed.map(lambda s: s[0]).distinct().collect())"
   ]
  },
  {
   "cell_type": "code",
   "execution_count": 7,
   "metadata": {
    "collapsed": false
   },
   "outputs": [
    {
     "name": "stdout",
     "output_type": "stream",
     "text": [
      "[(('rebounding', 46), 1), (('now', 18), 1), (('complaint', 23), 2), (('generally', 51), 1), (('intentions', 24), 1), (('bounce', 8), 1), (('noting', 3), 1), (('annual', 67), 1), ((\"don't\", 3), 1), (('snow-melters', 0), 1)]\n"
     ]
    }
   ],
   "source": [
    "# count the # of (word,index of document) pairs \n",
    "\n",
    "XTrainCPSC = XTrain_preprocessed.map(lambda s: (s,1))\\\n",
    "                        .reduceByKey( lambda a,b: a + b)\n",
    "print(XTrainCPSC.take(10))    "
   ]
  },
  {
   "cell_type": "code",
   "execution_count": 8,
   "metadata": {
    "collapsed": false
   },
   "outputs": [
    {
     "name": "stdout",
     "output_type": "stream",
     "text": [
      "[(0, {'airport': 2, 'patterns': 1, \"don't\": 1, 'operates': 1, 'supplements': 1, 'use': 1, 'carefully': 1, 'tel': 1, 'tracks': 1, 'facility': 1, 'salt': 1, 'set': 1, 'employees': 1, 'year': 2, 'laguadria': 1, 'times': 1, 'maintenance': 1, 'help': 1, 'facility-specific': 1, 'conditions': 1, 'dedicated': 2, 'feeley': 1, 'sand': 1, 'cargo': 2, 'operations': 2, 'jfk': 1, 'fax': 1, 'pieces': 1, 'reports': 2, 'blowers': 1, 'winter': 2, 'sensors': 1, 'updated': 1, 'newark': 2, 'data': 1, 'snow-melters': 1, 'john': 1, 'dewpoint': 1, 'blast': 1, 'travellers': 1, 'hit': 1, 'humidity': 1, 'round': 1, 'plan': 1, 'f': 1, 'newsroom': 1, \"what's\": 1, 'de-icing': 1, 'few': 1, \"york's\": 1, 'air': 2, 'react': 1, 'service': 1, 'windspeed': 1, 'direction': 1, 'chief': 1, 'airports': 3, 'key': 2, 'inground': 1, 'authority': 3, 'deployment': 1, 'monitor': 1, 'forecasts': 1, 'coming': 1, 'anticipate': 1, 'harsh': 1, 'weather': 5, 'more': 1, 'york': 1, 'almost': 1, 'ground': 1, 'moving': 1, 'massive': 1, 'officer': 1, 'standby': 1, 'equipment': 4, 'snow': 3, 'analyse': 1, 'accordingly': 1, 'disruption': 1, 'us': 1, \"day's\": 1, 'sit': 1, 'temperatures': 1, 'tons': 1, 'advance': 1, 'new': 3, 'transmitting': 1, 'prevent': 1, 'through': 1, 'laguardia': 1, 'allows': 1, 'technology': 1, 'wait': 1, 'companies': 1, 'private': 1, 'counter': 1, 'staff': 1, 'up': 2, 'special': 1, 'including': 1, 'day': 1, 'david': 1, 'kennedy': 1, 'latest': 1, 'port': 2, 'personnel': 1, 'deploy': 1, 'jersey': 1, 'desk': 2, 'snow-fighting': 1, 'national': 1, 'each': 4})]\n"
     ]
    }
   ],
   "source": [
    "# the structure of output: (index of document, dictionary of {word: count of word})\n",
    "\n",
    "XTrainDict = XTrainCPSC.map(lambda x: (x[0][1],(x[0][0],x[1])))\\\n",
    "                            .groupByKey()\\\n",
    "                            .map(lambda x: (x[0],dict(x[1])))\n",
    "\n",
    "\n",
    "print(XTrainDict.take(1))"
   ]
  },
  {
   "cell_type": "code",
   "execution_count": 9,
   "metadata": {
    "collapsed": false
   },
   "outputs": [],
   "source": [
    "# create row object for each document, put 0 if the word does not exist in the document\n",
    "\n",
    "XTrainRow = XTrainDict.map(lambda x: Row(**{k:(x[1][k] if k in x[1].keys() else 0) for k in cols.value}))"
   ]
  },
  {
   "cell_type": "code",
   "execution_count": 10,
   "metadata": {
    "collapsed": false
   },
   "outputs": [],
   "source": [
    "# Create the data frame for training features\n",
    "\n",
    "sqlContext = SQLContext(sc)\n",
    "XTrainDF = sqlContext.createDataFrame(XTrainRow)"
   ]
  },
  {
   "cell_type": "markdown",
   "metadata": {},
   "source": [
    "### Create Dataframe for Y\n",
    "\n",
    "Dataframe for the labels and combine it with the dataframe for the \n",
    "features"
   ]
  },
  {
   "cell_type": "code",
   "execution_count": 11,
   "metadata": {
    "collapsed": false
   },
   "outputs": [
    {
     "data": {
      "text/plain": [
       "[Row(Label=['CCAT', 'GCAT']),\n",
       " Row(Label=['MCAT']),\n",
       " Row(Label=['CCAT']),\n",
       " Row(Label=['GCAT']),\n",
       " Row(Label=['MCAT'])]"
      ]
     },
     "execution_count": 11,
     "metadata": {},
     "output_type": "execute_result"
    }
   ],
   "source": [
    "# Create the Ytrain dataframe\n",
    "\n",
    "YTrainLabels = YTrainOri.map(lambda x: Row(filter_CAT(x)))\n",
    "                    \n",
    "YTrainDF = sqlContext.createDataFrame(YTrainLabels,['Label'])\n",
    "YTrainDF.head(5)"
   ]
  },
  {
   "cell_type": "code",
   "execution_count": 12,
   "metadata": {
    "collapsed": false
   },
   "outputs": [],
   "source": [
    "# Combine the dataframe containing features and the dataframe containing label array\n",
    "TrainDF_multi_label = combine_DF(XTrainDF,YTrainDF)"
   ]
  },
  {
   "cell_type": "code",
   "execution_count": 13,
   "metadata": {
    "collapsed": false
   },
   "outputs": [],
   "source": [
    "# Explode by label column such that a row with multiple label is duplicated\n",
    "TrainDF = TrainDF_multi_label.withColumn('Label',explode(TrainDF_multi_label.Label))\n"
   ]
  },
  {
   "cell_type": "code",
   "execution_count": 14,
   "metadata": {
    "collapsed": false
   },
   "outputs": [
    {
     "data": {
      "text/plain": [
       "[Row(a319s=0, aaa=0, abc=0, abducted=0, abdul=0, abdullah=0, abidjan=0, able=0, abortions=0, above=0, abroad=0, absentia=0, absolutely=0, abu=0, accede=0, access=0, accessory=0, accord=0, according=0, accordingly=0, account=0, accounting=0, accrued=0, accuracy=0, accused=0, achieve=0, achieved=0, acid=0, acquire=0, acquisition=0, across=0, act=0, acted=0, action=0, actions=0, active=0, actively=0, actively-traded=0, activity=0, actual=0, actually=0, adaptor=0, added=0, adding=0, addition=0, additional=0, additive=0, adjame=0, adjusted=0, adm=0, adm's=0, administration=0, administrative=0, admitted=0, advance=0, advances=0, advertisement=0, advertising=0, advise=0, advisers=0, advocates=0, affairs=0, affairsahmad=0, affairssheikh=0, affifuddin=0, african=0, after=0, after-tax=0, afternoon=0, aga=0, again=0, against=0, agencies=0, agency=0, ago=0, agree=0, agreed=0, agreement=0, agreements=0, agricultural=0, agriculture=0, agriculturesheikh=0, ahead=0, ahmad=0, aide=0, aides=0, ailing=0, aimed=0, aims=0, air=0, airbase=0, airbus=0, airbus's=0, aircraft=0, aircrew=0, aires=0, airline=0, airline's=0, airlines=0, airplanes=0, airport=0, airports=0, airways=0, aisin=0, ajax=0, ajinomoto=0, al-attiyah=0, al-kawari=0, al-khiyareen=0, al-mahmood=0, al-manna=0, al-nuaimi=0, al-qods=0, al-subai'e=0, al-thani=0, alagoas=0, alain=0, alan=0, albany=0, alcohol=0, alexis=0, alfred=0, ali=0, alike=0, alkmaar=0, allegations=0, alleged=0, alleges=0, allegiance=0, allison=0, allow=0, allowed=0, allowing=0, allows=0, almost=0, alone=0, already=0, also=0, alter=0, although=0, alyson=0, am=0, ambassador=0, amboseli=0, amelio=0, america=0, amersham=0, amersham's=0, amid=0, among=0, amongst=0, amounting=0, amounts=0, amp=0, amsterdam=0, amy=0, analyse=0, analysis=0, analyst=0, analysts=0, andersen=0, anderson=0, andreas=0, andrei=0, angeles=0, angels=0, animated=0, anlong=0, announce=0, announced=0, announcement=0, announcements=0, announces=0, announcing=0, annual=0, annualized=0, annuities=0, another=0, ansett=0, anti-trust=0, antibodies=0, anticipate=0, anticipated=0, anticipating=0, antitrust=0, anz=0, apart=0, apparent)sheikh=0, apparently=0, appeal=0, appear=0, appearance=0, appeared=0, appearing=0, apple=0, appliances=0, applicants=0, applications=0, applied=0, applying=0, appointment=0, approvals=0, approves=0, approximately=0, april=0, arab=0, arabic=0, arabs=0, arafat=0, archer=0, ards=0, area=0, argentina=0, argentine=0, argentinians=0, argued=0, arguments=0, arisen=0, arising=0, ariz=1, armed=0, arnhem=0, around=0, arrangements=0, arrive=0, arrived=0, arsenal=0, art=0, arthur=0, asia=0, asian=0, asked=0, asleep=0, aspects=0, aspirin=0, assembly=0, assemblyman=0, assess=0, assessed=0, assessment=0, asset=0, assets=0, assicurazioni=0, assist=0, assistance=0, associate=0, associates=0, association=0, associations=0, assumed=0, assuming=0, assurance=1, assurances=0, aston=0, atomic=0, attack=0, attacks=0, attempt=0, attempts=0, attention=0, attorney=0, attorneys=0, attractive=0, auction=0, audit=0, aug=0, augsep=0, august=0, aussie=0, australia=0, australia's=0, australian=0, authorities=0, authority=0, authorized=0, auto=0, automatic=0, available=0, average=0, averages=0, aviation=0, aviv=0, avoid=0, awaited=0, awarded=0, away=0, axworthy=0, ayling=0, az=0, aziz=0, b=0, ba=0, ba's=0, babbitt=0, babies=0, back=0, backlog=0, bad=0, baggage=0, bahia=0, balance=0, balanced=0, balinda=0, ball=0, ballas=0, ballot=0, ballyclare=0, ballymena=0, baltic=0, band=0, bangladesh=0, bangor=0, banished=0, bank=0, bank's=0, bank)abdullah=0, banker=0, bankers=0, banks=0, bar=0, barclays=0, barely=0, bargaining=0, barnes=0, barriers=0, base=0, based=0, basis=0, bastia=0, battle=0, battles=0, bearing=0, bearings=0, beat=0, beaten=0, beautiful=0, became=0, because=0, become=0, before=0, began=0, begin=0, beginning=0, begun=0, behind=0, beijing=0, being=0, belief=0, believe=0, believed=0, believes=0, bellies=0, below=0, benarbia=0, benchmark=0, benefited=0, benefits=0, benjamin=0, bernabia=0, best=0, better=0, between=0, beverly=0, beyond=0, bhlb=0, bias=0, bid=0, bieszk=0, big=0, biggest=0, bilateral=0, bill=0, billion=0, billion-pounds=0, billions=0, bills=0, bin=0, biomolecules=0, bioproducts=0, biotech=0, biotech's=0, birt=0, births=0, bitterly=0, black=0, blackburn=0, blackpool=0, blame=0, blast=0, blasts=0, blinder=0, block=0, blocks=0, blood=0, blowers=0, blue=0, bndes=0, board=0, bodies=0, body=0, boe=1, boeing=0, bolton=0, bomber=0, bond=1, bonds=2, bonus=0, bookable=0, booked=0, books=0, boosting=0, border=0, borders=0, born=0, borneo=0, boston-based=0, botched=0, both=0, bottles=0, bought=0, bounce=0, bounced=0, bow=0, bowed=0, bowles=0, brake=0, brakes=0, brand=0, brazil's=0, brazilian=0, break=0, breaking=0, breda=0, briefing=0, bring=0, britain=0, britain's=0, british=0, broad=0, broader=0, broker=0, brokerage=0, brokerages=0, brokers=0, brooklyn=0, brother=0, brothers=0, brou=0, brought=0, browner=0, browser=0, bruce=0, btan=0, btans=0, buenos=0, build=0, building=0, built=0, bulldozers=0, bullish=0, bund=0, bunheng=0, bunich=0, bunphoeun=0, burden=0, bureau=0, burkina=0, busch=0, business=0, businesses=0, busy=0, butcher=0, buy=0, buyers=0, buying=0, buzz=0, c=0, c-bear=0, cabin=0, cabinet=0, cable=0, cafe=0, cairns=0, cairo=0, calculated=0, calif=0, california=0, called=0, calling=0, calls=0, cambodia=0, cambodian=0, cambodias=0, cambridge=0, came=0, campaign=0, canada=0, canadia=0, canadian=0, canadian-led=0, canadians=0, cancel=0, cancellations=0, cancers=0, candidates=0, cannes=0, cans=0, capacity=0, capital=0, captain=0, car=0, card=0, carefully=0, cargo=0, carl=0, carmaker=0, carmyllie=0, carnival=0, carol=0, carrick=0, carried=0, carrier=0, carry=0, cars=0, case=0, cash=0, catacosinos=0, catering=0, cathay=0, cause=0, caused=0, cautious=0, cdt=0, ceal=0, ceco=0, ceee=0, celibate=0, cellular=0, celpa=0, cemat=0, cent=0, central=0, centre=0, centres=0, cents=0, century=0, cepisa=0, cerj=0, certificate=0, certification=0, cfa=0, chain=0, chairman=0, chairs=0, chalked=0, chamber=0, chance=0, change=0, changed=0, changes=0, changing=0, channels=0, characteristics=0, charge=0, charged=0, charges=0, cheang=0, check=0, check-in=0, chelsea=0, chemistry=0, chen=0, cheque=0, chests=0, chia=0, chicago=0, chief=0, children's=0, china=0, china's=0, chinese=0, chinese-owned=0, chip=0, chosen=0, chris=0, christmas=0, christophe=0, christopher=0, chuck=0, chuk-fai=0, ci-telcom=0, ciadea=0, cif=0, cited=0, citic=0, cities=0, citizens=0, citric=0, city=0, civilian=0, claimed=0, clashes=0, class=0, class-action=0, clear=0, clearance=0, clearances=0, cleared=0, clearly=0, clerical=0, cleveland-based=0, cliftonville=0, clinton=0, clinton's=0, cloaked=0, close=0, closed=0, closes=0, closing=0, closure=0, clubs=0, clues=0, cmdr=0, cme=0, cnac=0, cnn=0, co=0, co's=0, coalition=0, coast=0, coates=0, coca-cola=0, cocard=0, cockpit=0, coconut=0, coelba=0, cofal=0, coffee=0, coincide=0, coincided=0, coleraine=0, collaboration=0, colonel=0, combed=0, combination=0, come=0, comet=0, comfortably=0, coming=0, commander=0, comment=0, comments/queries=0, commerce=0, commercial=0, commercial-duty=0, commissioner=0, commit=0, commitment=0, committed=0, committee=0, common=0, communicate=0, communication=0, communications=0, community=0, compagnie=0, companies=0, company=0, company's=0, compare=0, compared=0, compensation=0, competition=0, competitive=1, competitor=0, competitors=0, compile=0, complained=0, complaint=0, complaints=0, complementary=0, completed=0, completely=0, components=0, composite=0, comprises=0, compromise=0, computer=0, computers=0, computing=0, concentrate=0, concepts=0, concern=0, concerned=0, concerns=0, concert=0, concluded=0, concludes=0, condition=0, conditions=0, conducted=0, conference=0, confidence=0, confident=0, confined=0, confirm=0, confirmation=0, confirmed=0, confusion=0, congress=0, connected=0, connections=0, consequently=0, consider=0, considerable=0, consideration=0, considered=0, considering=0, consistent=0, conspiring=0, constant=0, construction=0, consultants=0, consumer=0, consumers=0, contact=0, contacted=0, contacts=0, contained=0, containers=0, contenders=0, content=0, contentious=0, contest=0, contingency=0, continue=0, continued=0, continuing=0, contract=0, contracted=0, contractor=0, contractors=0, contracts=0, contradict=0, contributed=0, control=0, controls=0, conversion=0, converter=0, converters=0, cooperate=0, cooperated=0, cooperation=0, coordinate=0, coordinates=0, coordination=0, corn=0, coroner's=0, corp=0, corp's=0, corporate=0, corporation=0, correction=0, cosern=0, cost=0, cost-cutting=0, cost-effective=0, costello=0, costing=0, costly=0, costs=0, cots=0, council=0, counsel=0, counter=0, countries=0, country=0, county=0, couple=0, coupon=0, course=0, court=0, courtsheikh=0, coventry=0, cover=0, coverage=0, covered=0, covering=0, cpfl=0, cpi=0, crackdown=0, create=0, created=0, crew=0, crime=0, crisis=0, critical=0, criticism=0, cross=0, crosses=0, crothersville=0, crown=0, crumbled=0, crusaders=0, cult=0, cultural=0, culture=0, culturehamad=0, cup=0, currency=0, currency's=0, current=0, curve=0, custody=0, customer=0, customers=0, customised=0, cut=0, cutout=0, cuts=0, d=0, d-manhattan=0, daley=0, damage=0, danger=0, dangers=0, daniels=0, danson=0, data=0, date=0, daughter=0, david=0, day=0, day's=0, days=0, de=0, de-icing=0, dead=0, deadline=0, deadlocked=0, deadset=0, deal=0, dealer=0, dealers=0, deals=0, death=0, deaths=0, debt=0, debut=0, dec=0, decatur=0, december=0, deception=0, deceptive=0, decide=0, decided=0, decides=0, decision=0, decisions=0, declaration=0, declared=0, declined=0, decommissioning=0, decreasing=0, dedicated=0, deep-discount=0, deer=1, defeats=0, defecting=0, defectors=0, defence=0, defencesee=0, defend=0, defended=0, defender=0, defiance=0, deficit=0, delaware=1, delaying=0, delegation=0, delhi=0, deliberate=0, deliverd=0, delivered=0, delivery=0, delle=0, delta=0, demand=0, demands=0, democrat=0, democrat-led=0, democratic=0, denied=0, dennis=0, denominated=0, depart=0, department=1, depending=0, deplorable=0, deplored=0, deploy=0, deployment=0, deposits=0, depth=0, deputy=0, derby=0, deregulation=0, des=0, describe=0, described=0, design=0, designed=0, desired=0, desk=1, despite=0, destination=0, destruction=0, detail=0, details=0, detained=0, detected=0, detecting=0, detectives=0, determination=0, determine=0, determined=0, deutschemark=0, develop=0, developed=0, developer=0, development=0, device=0, devices=0, dewpoint=0, di=0, diabetes=0, diagnostics=0, did=0, died=0, diego=0, difference=0, diluted=0, dilution=0, dimissed=0, diplomat=0, dips=0, direct=0, direction=0, directionless=0, directly=0, director=0, disappointed=0, disclosed=0, discontent=0, discount=0, discounts=0, discovered=0, discussed=0, discussions=0, disgruntled=0, dismissal=0, dismissed=0, disney=0, displays=0, dispute=0, disruption=0, distance=0, distillery=0, distributor=0, distributors=0, district=3, div=0, divide=0, dividend=0, division=0, divisional=0, divorce=0, dixon=0, document=0, documents=0, does=0, doesn't=0, doetinchem=0, doing=0, dollar=0, dollar's=0, dollars=0, domestic=0, domestics=0, dominance=0, dominated=0, dominique=0, don't=0, done=0, double=0, doug=0, down=0, downplay=0, downside=0, downward=0, dr=0, dragon=0, dragonair=0, drama=0, dramatically=0, draw=0, drawn=0, dressed=0, drew=0, drifted=0, drink=0, drinking=0, drive=0, drop=0, dropped=0, drops=0, drove=0, drug=0, drugs=0, dubbed=0, due=0, dug-out=0, duma=0, dumas=0, durable=0, durables=0, during=0, dutch=0, dwayne=0, dwight=0, e-mail=0, each=0, eager=0, earle=0, earlier=0, early=0, earning=0, earnings=0, earth=0, ease=0, eased=0, easier=0, easing=0, east=0, eastern=0, easy=0, eating=0, ebrd=0, ecar=0, echo=0, economic=0, economist=0, economists=0, economy=0, ed=0, editorial=0, educationabdel-aziz=0, efan=0, effect=0, effective=0, efficiency=0, effort=0, efforts=0, eggleton=0, egyptian=0, eidhoven=0, eight=0, eighth=0, eindhoven=0, either=0, ekoku=0, elect=0, election=0, electricity=0, electronics=0, eligible=0, elsewhere=0, emile=0, emir=0, emiri=0, emphasis=0, emphasized=0, employee=0, employees=0, employer=0, employs=0, emu=0, encourage=0, end=0, end-dec=0, end-december=0, end-janaury=0, ended=0, ending=0, endorsing=0, endowments=0, energipe=0, energy=0, enersul=0, enforceable=0, enforcement=0, engine=0, engines=0, england=0, english=0, enhanced=0, enhancing=0, enivronment=0, enjoyed=0, enlarged=0, enrich=0, enschede=0, ensure=0, ensured=0, entebbe=0, entered=0, enterprises=0, entertainment=0, environmental=0, envoy=0, eps=0, equalised=0, equipment=0, equitable=0, equivalent=0, eric=0, erskine=0, escaped=0, est=0, established=0, establishment=0, estimated=0, ethernet=0, eu=0, europe=0, europe's=0, european=0, europeans=0, evaluating=0, evan=0, evander=0, even=0, evening=0, evenly=0, eventually=0, everton=0, everything=0, evolve=0, ex-wife=0, exactly=0, examine=0, exceptional=0, excess=0, exchange=0, excited=0, executive=0, executives=0, exhaust=0, exhibition=0, existing=0, exit=0, expect=0, expectation=0, expectations=0, expected=0, expecting=0, expects=0, expenses=0, experience=0, experiencing=0, expert=0, expertise=0, experts=0, explained=0, export=0, exporting=0, expressed=0, expressing=0, extra=0, f=0, fabrizio=0, face=0, faces=0, facilities=0, facility=0, facility-specific=0, facing=0, fact=0, factory=0, facts=0, failed=0, fair=0, fairly=0, fall=0, fallen=0, falling=0, faltering=0, familiar=0, far=0, farm=0, farmers=0, faso's=0, father=0, fault=0, fax=0, fbi=0, fe=0, feared=0, feb=0, february=0, federal=0, feed=0, feel=0, feeley=0, fell=0, felt=0, female=0, ferdinand=0, few=0, feyenoord=0, fields=0, fifth=0, fighting=0, figure=0, figures=0, filed=0, film=0, filters=0, final=0, finalised=0, finally=0, finance=0, financial=1, financiere=0, financing=0, finding=0, finished=0, fired=0, firm=0, firmer=0, firms=0, first=0, fiscal=0, fischer=0, five=0, five-year=0, fix=0, fixing=0, flattening=0, fleet=0, flew=0, flights=0, floor=0, florida=1, flotation=0, flow=0, fly=0, focus=0, foetal=0, follow=0, following=1, follows=0, fomc=0, food=0, force=0, forced=0, forces=0, forces)sheikh=0, forecast=0, forecasts=0, foreign=0, foreigners=0, foreshadows=0, forest=0, form=0, formal=0, formed=0, former=0, fortuna=0, forward=0, foul=0, found=0, four=0, four-goal=0, four-tenths=0, fourth=0, fourth-quarter=0, fowler=0, fox=0, france=0, france's=0, francine=0, franck=0, francs=0, fraser=0, fraternite=0, fraudulent=0, freeing=0, frees=0, french=0, frenchman=0, fresh=0, friday=0, full=0, fully=0, fulmer=0, fumes=0, funcinpec=0, functions=0, fund=0, funded=0, funds=0, furniture=0, further=0, future=0, futures=0, fuzhou=0, g-day=0, g-days=0, gaffney=0, gained=0, gainers=0, gaining=0, game=0, games=0, gap=0, garage=0, garages=0, gas=0, gatt=0, gatwick=0, gava=0, gave=0, gayle=0, gaza=0, gearbox=0, gediminas=0, gencor=0, general=0, general's=0, generally=0, george=0, gerald=0, germain=0, german=0, germany=0, germany's=0, get=0, gets=0, ghneim=0, gianluca=0, giant=0, gilbert=0, girl=0, giuly=0, give=0, given=0, giving=0, glenavon=0, glentoran=0, gmt=0, go=0, go-for-broke=0, goal=0, goals=0, god=0, goes=0, going=0, gold=0, gone=0, good=0, goodbye=0, goods=0, gordon=0, gos=4, gov=0, govenor=0, government=0, government's=0, government-approved=0, governor=0, graafschap=0, grab=0, grace=0, grade=0, graham=0, gralla=0, gram/t=0, grande=0, grandparents=0, granted=0, gravitis=0, great=0, greater=0, green=0, greene=0, greg=0, groenenberg=0, groningen=0, grosso=0, ground=0, group=0, group's=0, groups=0, grow=0, grows=0, growth=0, guaranteed=0, guerrillas=0, guess=0, guesswork=0, guidance=0, guilder=0, guilder's=0, guilder/mark=0, guilders=0, guillermo=0, guilty=0, gunnar=0, gunned=0, guns=0, ha-lo=0, haggling=0, hair=0, hakko=0, hale-bopp=0, half=0, ham=0, hamad=0, hand=0, handball=0, handed=0, handle=0, handlers=0, handling=0, handover=0, hands=0, hang=0, happened=0, happy=0, har=0, harbert=0, hard=0, hard-fought=0, hard-won=0, hardest=0, hardline=0, hardliners=0, harmless=0, harris=0, harsh=0, hartson=0, haskel=0, hassan=0, have=0, haven't=0, head=0, headed=0, header=0, headquarters=0, heads=0, health=0, healthali=0, healthcare=0, heard=0, hearing=0, hearings=0, heartbreaking=0, heathrow=0, heaven=0, heavy=0, hebron=0, heerenveen=0, heir=0, held=0, helicopter=0, help=0, helping=0, hem=0, hempling=0, herman=0, hesitant=0, heskey=0, hiding=0, high=0, high-fructose=0, high-profile=0, high-volume=0, higher=0, highest=0, highland=1, highly=0, hike=0, hill=1, hills=0, hinder=0, hire=0, hit=0, hits=0, hitting=0, hk=0, hkaoa=0, hog=0, hogs=0, hokubu=0, hold=0, holding=0, holdings=0, holidaying=0, holidays=0, hollywood=0, holy=0, homa=0, home=0, homes=0, homestake=0, hong=0, hope=0, hopes=0, horizon=0, hormone=0, hotel=0, hotels=0, hour=0, hours=0, house=0, housing=0, how=0, howes=0, however=0, hsong=0, huge=0, humidity=0, huntington=0, hurt=0, i=0, i'm=0, ian=0, ibm=0, ibm's=0, identification=0, identified=0, identify=0, ieng=0, ii=0, ill-based=0, illegal=0, illegally=0, immediate=0, immediately=0, immune=0, impact=0, impatient=0, impending=0, implement=0, implemented=0, importation=0, improvement=1, ina=0, inadequate=0, inc=0, inches=0, incident=0, include=0, included=0, including=0, incoming=0, increase=0, increased=0, increasing=0, increasingly=0, ind=1, indecision=0, independent=0, independently=0, index=0, indianapolis=0, indicating=0, indication=0, indicative=0, indicator=0, indicators=0, indictments=0, industrial=0, industrie=0, industries=0, industry=0, industryabdullah=0, inexpensive=0, infant=0, infants=0, inflation=0, inflationary=0, influence=0, informant=0, information=0, ing=0, ingested=0, inground=0, initial=0, initiated=0, initiatives=0, inroads=0, inshallah=0, insisted=0, instances=0, instead=0, institution=0, institutional=0, instrument=0, insurance=1, integrate=0, intends=0, intense=0, intent=0, intention=0, intentionally=0, intentions=0, interact=0, interbank=0, interest=0, interested=0, interesting=0, interests=0, interior=0, interiorsee=0, international=0, internet=0, interpool=0, interview=0, intranets=0, intrinsically=0, introduces=0, invest=0, investigation=0, investigators=0, investment=0, investor=0, investors=0, invoked=0, involve=0, involved=0, involves=0, involving=0, ireland=0, irene=0, irked=0, islamic=0, island=0, islanders=0, israel=0, israeli=0, issue=0, issued=0, issues=1, issuing=0, istituto=0, it's=0, italian=0, italiana=0, italy=0, italy's=0, items=0, its=0, itself=0, ivorian=0, ivory=0, jabal=0, jabr=0, jakobsons=0, jamal=0, jamie=0, jan=0, janeiro=0, janet=0, january=0, january/february=0, japan=0, japan's=0, japanese=0, jason=0, jassim=0, java=0, jc=0, jeopardy=0, jerry=0, jersey=0, jerusalem=0, jets=0, jewelry=0, jewish=0, jews=0, jfk=0, jihad=0, joan=0, job=0, jobs=0, johannesburg=0, johansen=0, john=0, join=0, joining=0, joint=0, jonathan=0, jordan=0, jordanian=0, joseph=0, jospin=0, jour=0, journal=0, jovial=0, judge=0, julaug=0, july=0, jumbo=0, jumped=0, june=0, junjul=0, juris=0, jusco=0, just=0, justice=0, justicenajeeb=0, justification=0, kanchelskis=0, kanshiro=0, kariya=0, keep=0, keeps=0, kelland=0, kennedy=0, kenya=0, kenya's=0, kenyan=0, kept=0, kerkrade=0, key=0, keyboard=0, kg=0, khaled=0, khalifa=0, khan=0, khmer=0, kick-start=0, kidd=0, kids=0, kill=0, killing=0, kills=0, kind=0, kiosks=0, kiwi=0, kms=0, know=0, known=0, kogyo=0, kong=0, korea=0, korthals=0, ktdc=0, kuala=0, kwan=0, kyowa=0, l'amerique=0, la=0, labelling=0, laboratory=0, labour=0, lacapra=0, laguadria=0, laguardia=0, land=0, landings=0, language=0, large=0, large-capitalised=0, largely=0, largest=0, larne=0, laskin=0, last=0, lat=0, late=0, later=0, latest=0, latine=0, lats=0, latvia=0, latvia's=0, latvian=0, launch=0, laura=0, law=0, lawmakers=0, lawrence=0, lawyer=0, lay=0, lb=0, le=0, lead=0, lead-up=0, leader=0, leaders=0, leadership=0, leading=0, league=0, least=0, leave=0, leaves=0, leaving=0, led=0, lee=0, leeds=0, leen=0, left=0, leg=0, legal=0, legendary=0, legislators=0, legislature=0, legwinski=0, leicester=0, lengthy=0, les=0, less=0, letter=0, level=0, levelled=0, levels=0, liberalised=0, liberalising=0, license=0, licensee=0, lietuvos=0, life=0, lifted=0, light=0, lighting=0, like=0, likelihood=0, likely=0, lilco=0, limit=0, limited=0, line=0, lineup=0, linfield=0, link=0, links=0, lion's=0, lionel=0, lipscomb=0, liquid=0, list=0, litas=0, lithuania=0, little=0, live=0, liverpool=0, lives=0, lloyd=0, loan=0, loans=0, local=0, located=0, lock=0, lodge=0, lodges=0, logical=0, logu=0, london=0, long=0, long-haul=0, long-term=0, longer=0, longs=0, look=0, looked=0, looking=0, looms=0, lord=0, los=0, lose=0, losers=0, loss=0, loss-making=0, losses=0, lost=0, lot=0, lots=0, louis=0, low=0, low-cost=0, lower=0, lowered=0, lowly=0, lowrie=0, loyal=0, lt=0, ltd=0, lucrative=0, ludovic=0, lumpur=0, luxury=0, lying=0, lynch=0, lyon=0, lysine=0, m=0, macfarlane=0, machine=0, machinery=0, machines=0, made=0, mahlich=0, mahwah=1, main=0, mainframe=0, mainland=0, mainly=0, maintain=0, maintenance=0, major=0, majority=0, make=0, makes=0, malaysia=0, malaysian=0, mall=0, man=0, manage=0, managed=0, management=0, manager=0, managers=0, managing=0, manchester=0, mandate=0, mandated=0, manila=0, mansion=0, manufacture=0, manufactured=0, manufacturer=0, manufacturers=0, many=0, mapp=0, mara=0, march=0, marcus=0, margins=0, mark=0, mark's=0, market=0, marketing=0, markets=0, marks=0, martin=0, martinsh=0, maryland=0, masai=0, mass=0, massachusetts=0, massive=0, match=0, matches=0, materials=0, matin=0, mato=0, matt=0, matters=0, matthew=0, mattresses=0, matzorkis=0, maximise=0, mayjun=0, mayor=0, mccurry=0, mci=0, mckeon=0, meals=0, mean=0, meaningful=0, meant=0, meanwhile=0, measured=0, measures=0, mechanical=0, mechanics=0, media=0, mediator=0, medicine=0, medium=0, meespierson=0, meet=0, meeting=0, meets=0, meetthis=0, megawatt=0, melbourne=0, melvyn=0, member=0, members=0, memorandum=0, memorial=0, memory=0, men=0, mention=0, mentioned=0, mercantile=0, merchant=0, merchants=0, merge=0, merger=0, mergers=0, merrill=0, met=0, metal=0, mexico=0, mi=0, micex=0, michael=0, mick=0, microprocessor=0, microsoft=0, microsystems=0, mid-american=0, mid-continent=0, mid-point=0, mid-table=0, mid-west=0, midday=0, middle=0, middlesbrough=0, midfielder=0, midland=0, midweek=0, might=0, mike=0, mikhailov=0, miles=0, militants=0, military=0, milled/treated=0, million=9, millions=0, milton=0, mine=0, mines=0, minicomputers=0, minimum=0, mining=0, minister=0, ministerial=0, ministers=0, ministersee=0, ministersheikh=0, ministry=0, ministry's=0, minor=0, minority=0, minute=0, minutes=0, miscarriages=0, misrepresentations=0, missed=0, missing=0, missions=0, mixed=0, mlns=0, mo=0, model=0, moderate=0, moderately=0, mohammad=0, mok=0, mombasa=0, monaco=0, monday=0, monerat=0, monetary=0, money=0, monitor=0, monitoring=0, month=0, months=0, mood=0, moody's=0, moon=1, more=0, morning=0, moroccan=0, morocco=0, moscow=0, moslem=0, most=0, mostly=0, mother=0, mountain=0, mouse=0, move=0, moved=0, movement=0, movements=0, moves=0, moving=0, mps=0, much=0, municipal=2, music=0, must=0, mwh=0, myself=0, mystery=0, n'gbla=0, nac=0, nairobi=0, name=0, nanjing=0, narrow=0, nation's=0, national=0, navigator=0, navio=0, nazionale=0, nbc=0, near=0, near-term=0, nearby=0, neared=0, nearest=0, nearly=0, nec=0, need=0, needs=0, negative=0, negotiated=0, negotiating=0, negotiation=0, negotiations=0, negotiators=0, neighbours=0, nelson=0, nelson's=0, nervous=0, net=0, netanyahu=0, netherlands=0, netscape=0, network=0, networks=0, never=0, new=0, newark=0, newcastle=0, newmont=0, newry=0, news=0, newsdesk=0, newspaper=0, newsroom=0, next=0, nick=0, nienhuis=0, nigel=0, night=0, nijmegen=0, nil=0, nine=1, nine-man=0, nine-year-old=0, ninety-day=0, nj=1, no=0, nominal=0, nomura=0, non-aligned=0, non-firm=0, noon=0, normal=0, norte=0, north=0, northeast=0, northeastern=0, northern=0, northport=0, not=0, notably=0, note=0, noted=0, notes=0, noting=0, notionally=0, nottingham=0, nov=0, november=0, now=0, nq=0, nt=0, nuclear=0, number=0, numerous=0, nuon=0, ny=1, nz=0, oakley=0, objections=0, observers=0, obstructed=0, obstruction=0, occuring=0, octnov=0, october=0, odd=0, off=0, off-peak=0, offence=0, offences=0, offer=0, offered=0, offering=0, offers=0, office=0, office's=0, officemax=0, officer=0, officers=0, offices=0, official=0, officials=0, offset=0, offshore=0, often=0, oil=0, oilseed=0, ole=0, omagh=0, omar=0, on-highway=0, on-peak=0, once=0, one=0, one-legged=0, ones=0, ongoing=0, only=0, opearation=0, open=0, open-ended=0, opening=0, operate=0, operated=0, operates=0, operating=0, operation=0, operations=0, operator's=0, operators=0, opinion=0, opponents=0, opposed=0, opposes=0, opposition=0, opt=0, optimistic=0, opting=0, option=0, optional=0, options=0, oral=0, ord=0, order=0, ordered=0, orders=0, ordinary=0, organisation=0, organisations=0, original=0, os=0, others=0, ottawa=0, out=0, outages=0, outcome=0, outlets=0, outlined=0, outlook=0, outpaced=0, output=0, outside=0, outsourcing=0, outstrips=0, oval=0, over=0, overdoses=0, overnight=0, oversubscribed=0, oversubscription=0, oversubscriptions=0, overwhelming=0, overwhelmingly=0, own=0, owned=0, owner=0, owns=0, pa=2, pacific=0, pacific's=0, package=0, packet=0, pact=0, pages=0, pagoda=0, paid=0, palestinian=0, palestinians=0, para=0, parc=0, pardon=0, parent=0, paris=0, park=1, parliament=0, parliamentary=0, parlour=0, part=0, partial=0, partisan=0, partly=0, partner=0, partners=0, parts=0, party=0, passenger=0, passengers=0, past=0, pataki=0, pataki's=0, patent=0, path=0, patterns=0, paul=0, paulo=0, pavel=0, pay=0, payable=0, payments=0, pct=0, peace=0, peacefully=0, peak=0, pegged=0, penalty=0, pennsylvania=0, people=0, peoples=0, per=0, percent=0, percentage=0, perform=0, performance=0, performers=0, period=0, permanent=0, personal=0, personnel=0, perusse=0, pesos=0, peter=0, peters=0, petit=0, pharmacia=0, philippine=0, philippines=0, phone=0, phuong=0, physical=0, piaui=0, pibor=0, pick=0, pieces=0, piercing=0, pilot=0, pilots=0, pin=0, pit=0, pitfalls=0, place=0, placebo=0, placed=0, plan=0, planned=0, plans=0, plant=0, plastic=0, play=0, played=0, plays=0, plc=0, plea=0, pleaded=0, pleas=0, please=0, pledges=0, pleikys=0, plo=0, plus=0, pm=0, point=0, points=0, poison=0, pol=0, poland's=0, police=0, policies=0, policy=0, policyholders=0, policyis=0, polish=0, political=0, poll=0, polls=0, pollution=0, pool=0, por=0, pork=0, port=0, portadown=0, portfolio=0, portion=0, portsmouth=0, position=0, positions=0, positive=0, possibility=0, possible=0, possibly=0, post=0, postpone=0, posts=0, pot=0, potential=0, potentially=0, pound=0, pounds=0, power=0, powerpc=0, practice=0, practices=0, pre-empted=0, pre-emptive=0, pre-suicide=0, preceding=0, prediction=0, predictions=0, prednisone=0, prednisone/aspirin=0, preferential=0, preferred=0, pregnant=0, prejudging=0, preliminary=0, premature=0, prematurely=0, premier=0, premium=0, prepare=0, prepared=0, present=0, presentation=0, presentational=0, presently=0, president=0, president's=0, press=0, pressed=0, pressure=0, pressures=0, pretending=0, prev=0, prevent=0, preventing=0, prevents=0, previous=0, previously=0, prgramme=0, price=0, price-fixing=0, priced=0, prices=0, pricing=0, prime=0, prime-tass=0, prince=0, princes=0, princeton=0, principal=0, principle=0, priority=0, prisoners=0, private=0, privately=0, privatisation=0, privatise=0, privatised=0, privatization=0, privatizations=0, privatized=0, privatizing=0, probably=0, probe=0, probes=0, problem=0, problems=0, proceeds=0, process=0, processing=0, processor=0, produced=0, producers=0, producing=0, product=0, production=0, productive=0, products=0, profit=0, profit-taking=0, profitability=0, profits=0, progess=0, program=0, progress=0, project=0, projected=0, projections=0, projects=0, prominent=0, promissory=0, promote=0, promotion=0, prompted=0, prompting=0, prop=0, properties=0, property=0, proportion=0, proposal=0, proposals=0, proposed=0, proposing=0, prosecutors=0, protection=0, protelcon=0, protest=0, protests=0, prove=0, provide=0, provided=0, providing=0, province=0, proximity=0, prudential=0, prune=0, psg=0, psv=0, public=0, publicly=0, published=0, pulled=0, punters=0, purchase=0, purchased=0, purple=0, purpose=0, pushed=0, pushing=0, put=0, puts=0, putting=0, qatar=0, qualified=1, quantities=0, quarter=0, quarterly=0, question=0, questions=0, quick=0, quicker=0, quickly=0, quiet=0, quite=0, rabat=0, radio=0, raise=0, raised=0, raising=0, ramallah=0, ran=0, rancho=0, rand=0, rand/kg=0, range=0, rangebound=0, ranged=0, ranges=0, ranging=0, rate=0, ratepayer=0, rates=0, rather=0, rating=0, rationalisation=0, ravanelli=0, ray=0, rba=0, rba's=0, rbnz=0, rbnz's=0, re=0, re's=0, re-election=0, reach=0, reached=0, reaches=0, react=0, reacted=0, reaction=0, read=0, ready=0, reais=0, real=0, really=0, reap=0, reasons=0, reassessment=0, rebels=0, rebound=0, rebounding=0, receive=0, received=0, recent=0, recently=0, recommendations=0, recommended=0, reconnaissance=0, reconstruction=0, record=0, red=0, reduce=0, reese=0, referee=0, reference=0, refining=0, reflected=0, reflecting=0, refugee=0, refugees=0, refund=0, refuse=0, refused=0, regarding=0, regime=0, region=0, regional=0, regulatory=0, reid=0, reinsurance=0, reinsurer=0, reinsurers=0, reject=0, rejected=0, related=0, relatively=0, release=0, released=0, reliability=0, relief=0, religious=0, relocate=0, reluctant=0, remain=0, remainder=0, remained=0, remaining=0, remains=0, remat=0, removal=0, removed=0, renault=0, rendezvous=0, reneged=0, renewed=0, reno=0, reno's=0, rented=0, repaid=0, repairs=0, repeated=0, repetition=0, replace=0, replaced=0, replaces=0, repo=0, report=0, reported=0, reportedly=0, reporter=0, reporters=0, reporting=0, reports=0, representative=0, representatives=0, represented=0, representing=0, represents=0, republican=0, republicans=0, reputation=0, request=0, requested=0, requesting=0, requests=0, require=0, requires=0, rescue=0, research=0, researchers=0, reserve=0, reserves=0, residential=0, resigned=0, resolution=0, resort=0, respectively=0, respond=0, response=0, responsible=0, restitution=0, restrain=0, restrictive=0, restructuring=0, result=0, results=0, resume=0, resuming=0, retail=0, retailer=0, retailers=0, return=0, returning=0, returns=0, reuter=0, reuters=0, revenue=1, revenues=0, reverse=0, reversing=0, review=0, revive=0, revs=1, reward=0, riassicurazione=0, rich=0, richard=0, richardson=0, ride=0, riga=0, right=0, right-wing=0, right-wingers=0, rights=0, rimantas=0, ring=0, ringgit=0, rio=0, rip=0, rise=0, risen=0, rising=0, risk=0, ritual=0, rival=0, river=0, rkc=0, road=0, robbie=0, robert=0, robertson=0, rock=1, rocky=0, roda=0, role=0, rolling=0, rolls-royce=0, roman=0, roman's=0, rome=0, rose=0, rosgosstrakh=0, ross=0, rotterdam=0, rouble=0, roubles=0, roubles/dollar=0, rouge=0, rouges=0, round=0, roy=0, royal=0, royalist=0, rs=0, rubin=0, rule=0, ruled=0, ruler)sheikh=0, rules=0, rumors=0, russia=0, russia's=0, russian=0, rwanda=0, ryan=0, ryde=0, s=0, sa=0, safe=0, safety=0, sahim=0, saif=0, salary=0, sale=1, saleh=0, sales=0, salomon=0, salt=0, samburu=0, same=0, san=0, sanction=0, sand=0, santa=0, sao=0, sary=0, satisfied=0, saturday=0, saturday's=0, savings=0, savoeun=0, saw=0, say=0, saying=0, says=0, sc=1, scaled-down=0, scandal=0, scarce=0, scene=0, scepticism=0, scheduled=1, schemes=0, school=3, schoolgirls=0, science=0, scope=0, score=0, scored=0, scorers=0, scoring=0, scott=0, scott's=0, scrapped=0, sd=2, seal=0, season=0, second=0, second-largest=0, secondary=0, secretaries=0, secretary=0, sector=0, sectors=0, secured=0, securities=0, security=1, see=0, seem=0, seen=0, sees=0, seiki=0, seiki's=0, select=0, self-destructive=0, self-rule=0, sell=0, sell-off=0, sell-offs=0, sellers=0, selling=0, semiconductors=0, seminar=0, sen=0, senior=0, sense=0, sensitive=0, sensors=0, sent=0, sentence=0, sentencing=0, separate=0, separately=0, separating=0, sepoct=0, sept=0, september=0, serena=0, sergipe=0, series=0, serve=0, serves=0, service=0, services=0, servicing=0, serving=0, session=0, sessions=0, set=0, sets=0, setting=0, settings=0, settle=0, settled=0, settlement=0, seven=0, several=0, sewon=0, shanghai=0, shape=0, shaping=0, share=0, shareholder=0, shareholders=0, shareholding=0, shares=0, sharp=0, shearer=0, shed=0, sheet=0, sheffield=0, sheikh=0, sheldon=0, sheriff's=0, shield=0, shielded=0, shift=0, shillings=0, shipments/inventories=0, shocked=0, shocking=0, shoes=0, shoot=0, shoots=0, shopping=0, short=0, short-haul=0, shorts=0, should=0, shouting=0, show=0, showed=0, showing=0, shown=0, shr=0, shrouds=0, sicav=0, sickened=0, sickening=0, side=0, sides=0, siem=0, sight=0, sign=0, signal=0, signature=0, signed=0, significant=0, significantly=0, signs=0, silence=0, silver=0, silverman=0, similar=0, simona=0, since=0, singapore=0, single=0, single-engine=0, sinora=0, sit=0, site=0, sittard=0, sitting=0, situation=0, six=0, six-month=0, sixth=0, size=0, skills=0, skipper=0, sleep=0, sleeping=0, slice=0, slightly=0, small=0, small-capitalised=0, small-sized=0, smell=0, smelled=0, smith=0, smoke=0, smoothed=0, snatched=0, snow=0, snow-fighting=0, snow-melters=0, soccer=0, socgen=0, sochan=0, social=0, socialist=0, socialists=0, software=0, sold=0, soldier=0, solid=0, solskjaer=0, something=0, son=0, soon=0, sought=0, sounds=0, source=0, sources=0, south=0, southampton=0, southwest=0, sovereignty=0, spa=0, sparking=0, sparta=0, speaker=0, special=0, specialises=0, specialising=0, specializes=0, specialties=0, specialty=0, specific=0, specified=0, speculating=0, speculation=0, speculative=0, speech=0, speed=0, spending=0, split=0, spoke=0, spokesman=0, spontaneous=0, spot=0, spp=0, spreadsheets=0, spree=0, springs=0, spun=0, squeeze=0, st=0, stabilised=0, staff=0, stage=0, stake=0, stance=0, stand=0, standby=0, standings=0, start=0, started=0, starting=0, starts=0, state=0, state-owned=0, stated=0, statement=0, states=0, statesheikh=0, station=0, stations=0, statistical=0, statistics=0, stay=0, steady=0, stem=0, step=0, stephens=0, stewart=0, stiglitz=0, still=0, stock=0, stocks=0, stole=0, stone-throwing=0, stood=0, stops=0, stores=0, stories=0, straight=0, strasbourg=0, strategic=0, strategy=0, streak=0, street=0, strength=0, strengthen=0, strict=0, strike=0, striker=0, string=0, strip=0, strokes=0, strong=0, stronger=0, strongly=0, structure=0, structured=0, stuart=0, studies=0, study=0, stumbling=0, stunning=0, subject=0, submit=0, subpoenaed=0, subscribe=0, subscribed=0, subscribers=0, subscribtion=0, subscription=0, subsequent=0, subsequently=0, subsidiary=0, substanital=0, substantial=0, substitute=0, success=0, successful=0, successive=0, suely=0, suffered=0, sufficiently=0, suffolk=0, suggestion=0, suggestions=0, suggests=0, suicide=0, suicides=0, sul=0, sum=0, summer=0, summers=0, sun=0, sunday=0, sunderland=0, superior=0, supermarket=0, superstore=0, supervisor=0, supplements=0, supplier=0, supply=0, support=0, supporters=0, supposition=0, sure=0, surplus=0, surprised=0, surrounding=0, survey=0, survived=0, susan=0, suspend=0, sutton=0, suzhou=0, swing=0, swire=0, swiss=0, swoop=0, sydney=0, sylvain=0, synergies=0, syrup=0, system=1, systems=0, t&amp;g=0, t&amp;g's=0, t-bills=0, ta=0, table=0, tabulate=0, tabulating=0, take=0, taken=0, takeover=0, taking=0, talk=0, talked=0, talking=0, talks=0, tan=0, tangible=0, tap=0, target=0, targeted=0, targets=0, tarses=0, tax-exempt=0, teaching=0, team=0, technicians=0, technology=0, ted=0, teeth=0, tel=0, telecom=0, telecommander=0, telecommunications=0, telekomas=0, telephone=0, television=0, telling=0, tells=0, tempe=1, temperatures=0, tenders=0, tennis=0, tentatively=0, term=0, terms=0, terrance=0, terrible=0, territory=0, territory's=0, terry=0, test=0, tested=0, testify=0, testimony=0, testing=0, texaco=0, texas=0, th=0, thanks=0, themselves=0, theoretically=0, there's=0, therefore=0, these=0, they're=0, things=0, think=0, thinking=0, third=0, third-party=0, those=0, though=0, thought=0, thousands=0, threaten=0, threatened=0, threatening=0, three=0, three-month=0, through=0, throw=0, thursday=0, thursday's=0, tied=0, ties=0, tight=0, tighten=0, tightening=0, tilburg=0, tim=0, timber=0, timbers=0, time=0, timeline=0, times=0, tinkered=0, tissier=0, tnt=0, today=1, together=0, token=0, tokyo=0, told=0, tomorrow=0, tone=0, toned=0, tonko=0, tonne=0, tonnes=0, tons=0, too=0, took=0, top=0, toronto=0, torque=0, total=0, tough=0, tourism=0, tourist=0, towards=0, town=0, toyoda=0, tps=0, track=0, tracks=0, trade=0, trade-weighted=0, traded=0, trader=0, traders=0, trades=0, tradesheikh=0, trading=0, traditionally=0, traffic=0, transaction=0, transfers=0, transmission=0, transmission's=0, transmissions=0, transmitting=0, transparency=0, transport=0, transportabdullah=0, transportation=1, trauma=0, travel=0, travellers=0, treasurer=0, treasury=0, treatment=0, treatments=0, trent=0, triangular=0, trick=0, tries=0, triggering=0, trillion=0, trln=0, troops=0, trousers=0, troy=0, trying=0, tse=0, tucson=0, tuesday=0, turbulence=0, turki=0, turn=0, turning=0, turnover=0, tv=0, twente=0, twi=0, twice=0, twin=0, two=0, two-year=0, twp=2, typical=0, tyson=0, ual=0, ufo=0, ufsd=1, uganda=0, uganda's=0, ugandan=0, uhsd=1, un=0, un-run=0, unable=0, unanimously=0, uncertainty=0, unchanged=0, under=0, underlying=0, undermined=0, understand=0, understanding=0, undetermined=0, uneasy=0, unexpected=0, unfair=0, union=0, union(t&amp;g=0, unione=0, unit=0, united=0, university=0, unix=0, unless=0, unlikely=0, unnamed=0, unscheduled=0, unsmoothed=0, unsuccessful=0, unsworth=0, until=0, unveiled=0, up=0, upbeat=0, upcoming=0, updated=0, upheld=0, upjohn=0, upon=0, upscale=0, urged=0, uruguay=0, us=1, use=0, useful=0, using=0, usual=0, utilities=0, utility=0, utrecht=0, vacancies=0, vagnorius=0, vague=0, valid=0, valley=1, valuable=0, value=0, valued=0, values=0, vana=0, varying=0, vehicles=0, velocity=0, veng=0, ventilating=0, venture=0, verified=0, versus=0, veto=0, vetoes=0, via=0, vialli=0, vice=0, vickers=0, victims=0, victory=0, video=0, videotape=0, videotapes=0, view=0, viktor=0, villa=0, village=0, violence=0, virtual=0, visit=0, visiting=0, vitesse=0, voie=0, volendam=0, volleyed=0, volume=0, volumes=0, volunteers=0, vote=0, voted=0, voters=0, vouch=0, vowed=0, vows=0, vs=0, vying=0, waalwijk=0, wait=0, waiting=0, waits=0, wall=0, want=0, wanted=0, wanting=0, wants=0, war=0, wariness=0, warmly=0, warned=0, warrant=0, warren=0, warsaw=0, washington=1, waste=0, watch=0, water=1, waterahmad=0, waterworks=1, watson=0, way=0, ways=0, we'll=0, we're=0, we've=0, weak=0, weaken=0, weakens=0, weakness=0, weapons=0, weather=0, web=0, wednesday=1, week=0, weekly=0, weeks=0, weighed=0, weighs=0, weightage=0, weighted=0, weiss=0, welcomed=0, well=0, well-managed=0, well-staged=0, weller=0, wellington=0, went=0, west=0, western=0, what's=0, whatsoever=0, where=0, whether=0, while=0, whitacre=0, white=0, whole=0, whose=0, wibor=0, wide=0, widely=0, wike=0, willem=0, william=0, willing=0, wilson=0, wimbledon=0, win=0, windows=0, windspeed=0, winning=0, winsan=0, winston=0, winter=0, within=0, without=0, wofford=0, wolin=0, women=0, won=0, wonderful=0, word=0, wording=0, words=0, wore=0, work=0, workers=0, working=0, workstations=0, world=0, world's=0, worth=0, wounding=0, wounds=0, wright=0, wrongdoing=0, wto=0, wto's=0, yangze=0, yasser=0, year=0, year-ago=0, year-on-year=0, years=0, yen=0, yesterday=0, yet=0, yield=0, yld=0, york=0, york's=0, yorke=0, you=0, you're=0, youth=0, zaire=0, zealand=0, zealand's=0, zurich=0, Label='GCAT')]"
      ]
     },
     "execution_count": 14,
     "metadata": {},
     "output_type": "execute_result"
    }
   ],
   "source": [
    "TrainDF.head(1)[:100]"
   ]
  },
  {
   "cell_type": "markdown",
   "metadata": {},
   "source": [
    "## Part 2 Implement Naive Bayes Model"
   ]
  },
  {
   "cell_type": "markdown",
   "metadata": {},
   "source": [
    "### Calculate P( Y = yk)\n",
    "\n",
    "To calculate  P( Y = yk), we divide the frequency of each yk divived by the total count of Y"
   ]
  },
  {
   "cell_type": "code",
   "execution_count": 15,
   "metadata": {
    "collapsed": true
   },
   "outputs": [],
   "source": [
    "YTrainStatRDD = YTrainDF.withColumn('Label',explode(YTrainDF.Label)).rdd"
   ]
  },
  {
   "cell_type": "code",
   "execution_count": 16,
   "metadata": {
    "collapsed": false
   },
   "outputs": [],
   "source": [
    "# YStat is a frequency vector for yk\n",
    "YStat = YTrainStatRDD.map(lambda x: (x,1))\\\n",
    "            .reduceByKey(lambda x,y: x+y)\\\n",
    "            .collect()"
   ]
  },
  {
   "cell_type": "code",
   "execution_count": 17,
   "metadata": {
    "collapsed": false
   },
   "outputs": [
    {
     "name": "stdout",
     "output_type": "stream",
     "text": [
      "{'GCAT': 0.2727272727272727, 'ECAT': 0.15584415584415584, 'CCAT': 0.4155844155844156, 'MCAT': 0.15584415584415584}\n"
     ]
    }
   ],
   "source": [
    "# YStatProb is P( Y = yk) \n",
    "YStatFreq = {x[0].asDict()['Label']:x[1] for x in YStat}\n",
    "YStatProb = {x:YStatFreq[x]/sum(YStatFreq.values()) for x in YStatFreq}\n",
    "print(YStatProb)"
   ]
  },
  {
   "cell_type": "markdown",
   "metadata": {},
   "source": [
    "### Calculate P(xi|Y = yk)\n",
    "\n",
    "<font color='red'># NEED HELP HERE, VERY SLOW PROGRAM\n",
    "<br>Here I tried to transform TrainDF into probability table that we discussed earlier. First I group the rows by same labels, and sum the word count for the same type of document. Then I tried to divide the sum by total word count for that perticular word, in order to get the probability</font>"
   ]
  },
  {
   "cell_type": "code",
   "execution_count": 21,
   "metadata": {
    "collapsed": false
   },
   "outputs": [
    {
     "name": "stdout",
     "output_type": "stream",
     "text": [
      "--- 24.532465934753418 seconds ---\n"
     ]
    }
   ],
   "source": [
    "import time\n",
    "start_time = time.time()\n",
    "\n",
    "# group the rows by same labels, and sum the word count for the same type of document\n",
    "exprs = {x: \"sum\" for x in cols.value}\n",
    "TrainCount = TrainDF.groupBy('Label').agg(exprs)\n",
    "\n",
    "print(\"--- %s seconds ---\" % (time.time() - start_time))\n"
   ]
  },
  {
   "cell_type": "code",
   "execution_count": null,
   "metadata": {
    "collapsed": false
   },
   "outputs": [],
   "source": [
    "\n",
    "from pyspark.sql.functions import sum\n",
    "\n",
    "for col_name in TrainCount.columns:\n",
    "    if col_name != \"Label\":\n",
    "        TrainCount = TrainCount.withColumn(col_name, col(col_name)/TrainCount.select(col(name)).rdd.map(lambda x: x[0]).reduce(lambda x,y: x+y))\n"
   ]
  },
  {
   "cell_type": "code",
   "execution_count": null,
   "metadata": {
    "collapsed": true
   },
   "outputs": [],
   "source": []
  },
  {
   "cell_type": "code",
   "execution_count": null,
   "metadata": {
    "collapsed": true
   },
   "outputs": [],
   "source": []
  }
 ],
 "metadata": {
  "anaconda-cloud": {},
  "kernelspec": {
   "display_name": "Python [Root]",
   "language": "python",
   "name": "Python [Root]"
  },
  "language_info": {
   "codemirror_mode": {
    "name": "ipython",
    "version": 3
   },
   "file_extension": ".py",
   "mimetype": "text/x-python",
   "name": "python",
   "nbconvert_exporter": "python",
   "pygments_lexer": "ipython3",
   "version": "3.5.2"
  }
 },
 "nbformat": 4,
 "nbformat_minor": 0
}
